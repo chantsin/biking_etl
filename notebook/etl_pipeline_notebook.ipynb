{
 "cells": [
  {
   "cell_type": "markdown",
   "id": "3fba0c9a",
   "metadata": {},
   "source": [
    "## ETL Pipeline Practice"
   ]
  },
  {
   "cell_type": "code",
   "execution_count": 1,
   "id": "0caa20cf",
   "metadata": {},
   "outputs": [],
   "source": [
    "import numpy as np\n",
    "import pandas as pd"
   ]
  },
  {
   "cell_type": "markdown",
   "id": "595e5272",
   "metadata": {},
   "source": [
    "### Extract"
   ]
  },
  {
   "cell_type": "code",
   "execution_count": 360,
   "id": "fa4815d9",
   "metadata": {},
   "outputs": [
    {
     "data": {
      "text/html": [
       "<div>\n",
       "<style scoped>\n",
       "    .dataframe tbody tr th:only-of-type {\n",
       "        vertical-align: middle;\n",
       "    }\n",
       "\n",
       "    .dataframe tbody tr th {\n",
       "        vertical-align: top;\n",
       "    }\n",
       "\n",
       "    .dataframe thead th {\n",
       "        text-align: right;\n",
       "    }\n",
       "</style>\n",
       "<table border=\"1\" class=\"dataframe\">\n",
       "  <thead>\n",
       "    <tr style=\"text-align: right;\">\n",
       "      <th></th>\n",
       "      <th>ride_id</th>\n",
       "      <th>rideable_type</th>\n",
       "      <th>started_at</th>\n",
       "      <th>ended_at</th>\n",
       "      <th>start_station_name</th>\n",
       "      <th>start_station_id</th>\n",
       "      <th>end_station_name</th>\n",
       "      <th>end_station_id</th>\n",
       "      <th>start_lat</th>\n",
       "      <th>start_lng</th>\n",
       "      <th>end_lat</th>\n",
       "      <th>end_lng</th>\n",
       "      <th>member_casual</th>\n",
       "    </tr>\n",
       "  </thead>\n",
       "  <tbody>\n",
       "    <tr>\n",
       "      <th>0</th>\n",
       "      <td>46F8167220E4431F</td>\n",
       "      <td>electric_bike</td>\n",
       "      <td>2021-12-07 15:06:07</td>\n",
       "      <td>2021-12-07 15:13:42</td>\n",
       "      <td>Laflin St &amp; Cullerton St</td>\n",
       "      <td>13307</td>\n",
       "      <td>Morgan St &amp; Polk St</td>\n",
       "      <td>TA1307000130</td>\n",
       "      <td>41.854833</td>\n",
       "      <td>-87.663660</td>\n",
       "      <td>41.871969</td>\n",
       "      <td>-87.650965</td>\n",
       "      <td>member</td>\n",
       "    </tr>\n",
       "    <tr>\n",
       "      <th>1</th>\n",
       "      <td>73A77762838B32FD</td>\n",
       "      <td>electric_bike</td>\n",
       "      <td>2021-12-11 03:43:29</td>\n",
       "      <td>2021-12-11 04:10:23</td>\n",
       "      <td>LaSalle Dr &amp; Huron St</td>\n",
       "      <td>KP1705001026</td>\n",
       "      <td>Clarendon Ave &amp; Leland Ave</td>\n",
       "      <td>TA1307000119</td>\n",
       "      <td>41.894405</td>\n",
       "      <td>-87.632331</td>\n",
       "      <td>41.967968</td>\n",
       "      <td>-87.650001</td>\n",
       "      <td>casual</td>\n",
       "    </tr>\n",
       "    <tr>\n",
       "      <th>2</th>\n",
       "      <td>4CF42452054F59C5</td>\n",
       "      <td>electric_bike</td>\n",
       "      <td>2021-12-15 23:10:28</td>\n",
       "      <td>2021-12-15 23:23:14</td>\n",
       "      <td>Halsted St &amp; North Branch St</td>\n",
       "      <td>KA1504000117</td>\n",
       "      <td>Broadway &amp; Barry Ave</td>\n",
       "      <td>13137</td>\n",
       "      <td>41.899357</td>\n",
       "      <td>-87.648522</td>\n",
       "      <td>41.937582</td>\n",
       "      <td>-87.644098</td>\n",
       "      <td>member</td>\n",
       "    </tr>\n",
       "    <tr>\n",
       "      <th>3</th>\n",
       "      <td>3278BA87BF698339</td>\n",
       "      <td>classic_bike</td>\n",
       "      <td>2021-12-26 16:16:10</td>\n",
       "      <td>2021-12-26 16:30:53</td>\n",
       "      <td>Halsted St &amp; North Branch St</td>\n",
       "      <td>KA1504000117</td>\n",
       "      <td>LaSalle Dr &amp; Huron St</td>\n",
       "      <td>KP1705001026</td>\n",
       "      <td>41.899390</td>\n",
       "      <td>-87.648545</td>\n",
       "      <td>41.894877</td>\n",
       "      <td>-87.632326</td>\n",
       "      <td>member</td>\n",
       "    </tr>\n",
       "    <tr>\n",
       "      <th>4</th>\n",
       "      <td>6FF54232576A3B73</td>\n",
       "      <td>electric_bike</td>\n",
       "      <td>2021-12-30 11:31:05</td>\n",
       "      <td>2021-12-30 11:51:21</td>\n",
       "      <td>Leavitt St &amp; Chicago Ave</td>\n",
       "      <td>18058</td>\n",
       "      <td>Clark St &amp; Drummond Pl</td>\n",
       "      <td>TA1307000142</td>\n",
       "      <td>41.895579</td>\n",
       "      <td>-87.682024</td>\n",
       "      <td>41.931248</td>\n",
       "      <td>-87.644336</td>\n",
       "      <td>member</td>\n",
       "    </tr>\n",
       "  </tbody>\n",
       "</table>\n",
       "</div>"
      ],
      "text/plain": [
       "            ride_id  rideable_type           started_at             ended_at  \\\n",
       "0  46F8167220E4431F  electric_bike  2021-12-07 15:06:07  2021-12-07 15:13:42   \n",
       "1  73A77762838B32FD  electric_bike  2021-12-11 03:43:29  2021-12-11 04:10:23   \n",
       "2  4CF42452054F59C5  electric_bike  2021-12-15 23:10:28  2021-12-15 23:23:14   \n",
       "3  3278BA87BF698339   classic_bike  2021-12-26 16:16:10  2021-12-26 16:30:53   \n",
       "4  6FF54232576A3B73  electric_bike  2021-12-30 11:31:05  2021-12-30 11:51:21   \n",
       "\n",
       "             start_station_name start_station_id            end_station_name  \\\n",
       "0      Laflin St & Cullerton St            13307         Morgan St & Polk St   \n",
       "1         LaSalle Dr & Huron St     KP1705001026  Clarendon Ave & Leland Ave   \n",
       "2  Halsted St & North Branch St     KA1504000117        Broadway & Barry Ave   \n",
       "3  Halsted St & North Branch St     KA1504000117       LaSalle Dr & Huron St   \n",
       "4      Leavitt St & Chicago Ave            18058      Clark St & Drummond Pl   \n",
       "\n",
       "  end_station_id  start_lat  start_lng    end_lat    end_lng member_casual  \n",
       "0   TA1307000130  41.854833 -87.663660  41.871969 -87.650965        member  \n",
       "1   TA1307000119  41.894405 -87.632331  41.967968 -87.650001        casual  \n",
       "2          13137  41.899357 -87.648522  41.937582 -87.644098        member  \n",
       "3   KP1705001026  41.899390 -87.648545  41.894877 -87.632326        member  \n",
       "4   TA1307000142  41.895579 -87.682024  41.931248 -87.644336        member  "
      ]
     },
     "execution_count": 360,
     "metadata": {},
     "output_type": "execute_result"
    }
   ],
   "source": [
    "# Load data\n",
    "data = pd.read_csv('../data/input/biking_trip_2021_12.csv')\n",
    "data.head()"
   ]
  },
  {
   "cell_type": "code",
   "execution_count": 361,
   "id": "cb92cfd0",
   "metadata": {},
   "outputs": [
    {
     "data": {
      "text/html": [
       "<div>\n",
       "<style scoped>\n",
       "    .dataframe tbody tr th:only-of-type {\n",
       "        vertical-align: middle;\n",
       "    }\n",
       "\n",
       "    .dataframe tbody tr th {\n",
       "        vertical-align: top;\n",
       "    }\n",
       "\n",
       "    .dataframe thead th {\n",
       "        text-align: right;\n",
       "    }\n",
       "</style>\n",
       "<table border=\"1\" class=\"dataframe\">\n",
       "  <thead>\n",
       "    <tr style=\"text-align: right;\">\n",
       "      <th></th>\n",
       "      <th>ride_id</th>\n",
       "      <th>rideable_type</th>\n",
       "      <th>started_at</th>\n",
       "      <th>ended_at</th>\n",
       "      <th>start_station_name</th>\n",
       "      <th>start_station_id</th>\n",
       "      <th>end_station_name</th>\n",
       "      <th>end_station_id</th>\n",
       "      <th>start_lat</th>\n",
       "      <th>start_lng</th>\n",
       "      <th>end_lat</th>\n",
       "      <th>end_lng</th>\n",
       "      <th>member_casual</th>\n",
       "    </tr>\n",
       "  </thead>\n",
       "  <tbody>\n",
       "    <tr>\n",
       "      <th>247535</th>\n",
       "      <td>847431F3D5353AB7</td>\n",
       "      <td>electric_bike</td>\n",
       "      <td>2021-12-12 13:36:55</td>\n",
       "      <td>2021-12-12 13:56:08</td>\n",
       "      <td>Canal St &amp; Madison St</td>\n",
       "      <td>13341</td>\n",
       "      <td>NaN</td>\n",
       "      <td>NaN</td>\n",
       "      <td>41.882289</td>\n",
       "      <td>-87.639752</td>\n",
       "      <td>41.890000</td>\n",
       "      <td>-87.610000</td>\n",
       "      <td>casual</td>\n",
       "    </tr>\n",
       "    <tr>\n",
       "      <th>247536</th>\n",
       "      <td>CF407BBC3B9FAD63</td>\n",
       "      <td>electric_bike</td>\n",
       "      <td>2021-12-06 19:37:50</td>\n",
       "      <td>2021-12-06 19:44:51</td>\n",
       "      <td>Canal St &amp; Madison St</td>\n",
       "      <td>13341</td>\n",
       "      <td>Kingsbury St &amp; Kinzie St</td>\n",
       "      <td>KA1503000043</td>\n",
       "      <td>41.882123</td>\n",
       "      <td>-87.640053</td>\n",
       "      <td>41.889106</td>\n",
       "      <td>-87.638862</td>\n",
       "      <td>member</td>\n",
       "    </tr>\n",
       "    <tr>\n",
       "      <th>247537</th>\n",
       "      <td>60BB69EBF5440E92</td>\n",
       "      <td>electric_bike</td>\n",
       "      <td>2021-12-02 08:57:04</td>\n",
       "      <td>2021-12-02 09:05:21</td>\n",
       "      <td>Canal St &amp; Madison St</td>\n",
       "      <td>13341</td>\n",
       "      <td>Dearborn St &amp; Monroe St</td>\n",
       "      <td>TA1305000006</td>\n",
       "      <td>41.881956</td>\n",
       "      <td>-87.639955</td>\n",
       "      <td>41.880254</td>\n",
       "      <td>-87.629603</td>\n",
       "      <td>member</td>\n",
       "    </tr>\n",
       "    <tr>\n",
       "      <th>247538</th>\n",
       "      <td>C414F654A28635B8</td>\n",
       "      <td>electric_bike</td>\n",
       "      <td>2021-12-13 09:00:26</td>\n",
       "      <td>2021-12-13 09:14:39</td>\n",
       "      <td>Lawndale Ave &amp; 16th St</td>\n",
       "      <td>362.0</td>\n",
       "      <td>NaN</td>\n",
       "      <td>NaN</td>\n",
       "      <td>41.860000</td>\n",
       "      <td>-87.720000</td>\n",
       "      <td>41.850000</td>\n",
       "      <td>-87.710000</td>\n",
       "      <td>member</td>\n",
       "    </tr>\n",
       "    <tr>\n",
       "      <th>247539</th>\n",
       "      <td>37AC57E34B2E7E97</td>\n",
       "      <td>classic_bike</td>\n",
       "      <td>2021-12-13 08:45:32</td>\n",
       "      <td>2021-12-13 08:49:09</td>\n",
       "      <td>Michigan Ave &amp; Jackson Blvd</td>\n",
       "      <td>TA1309000002</td>\n",
       "      <td>Dearborn St &amp; Monroe St</td>\n",
       "      <td>TA1305000006</td>\n",
       "      <td>41.877850</td>\n",
       "      <td>-87.624080</td>\n",
       "      <td>41.881320</td>\n",
       "      <td>-87.629521</td>\n",
       "      <td>member</td>\n",
       "    </tr>\n",
       "  </tbody>\n",
       "</table>\n",
       "</div>"
      ],
      "text/plain": [
       "                 ride_id  rideable_type           started_at  \\\n",
       "247535  847431F3D5353AB7  electric_bike  2021-12-12 13:36:55   \n",
       "247536  CF407BBC3B9FAD63  electric_bike  2021-12-06 19:37:50   \n",
       "247537  60BB69EBF5440E92  electric_bike  2021-12-02 08:57:04   \n",
       "247538  C414F654A28635B8  electric_bike  2021-12-13 09:00:26   \n",
       "247539  37AC57E34B2E7E97   classic_bike  2021-12-13 08:45:32   \n",
       "\n",
       "                   ended_at           start_station_name start_station_id  \\\n",
       "247535  2021-12-12 13:56:08        Canal St & Madison St            13341   \n",
       "247536  2021-12-06 19:44:51        Canal St & Madison St            13341   \n",
       "247537  2021-12-02 09:05:21        Canal St & Madison St            13341   \n",
       "247538  2021-12-13 09:14:39       Lawndale Ave & 16th St            362.0   \n",
       "247539  2021-12-13 08:49:09  Michigan Ave & Jackson Blvd     TA1309000002   \n",
       "\n",
       "                end_station_name end_station_id  start_lat  start_lng  \\\n",
       "247535                       NaN            NaN  41.882289 -87.639752   \n",
       "247536  Kingsbury St & Kinzie St   KA1503000043  41.882123 -87.640053   \n",
       "247537   Dearborn St & Monroe St   TA1305000006  41.881956 -87.639955   \n",
       "247538                       NaN            NaN  41.860000 -87.720000   \n",
       "247539   Dearborn St & Monroe St   TA1305000006  41.877850 -87.624080   \n",
       "\n",
       "          end_lat    end_lng member_casual  \n",
       "247535  41.890000 -87.610000        casual  \n",
       "247536  41.889106 -87.638862        member  \n",
       "247537  41.880254 -87.629603        member  \n",
       "247538  41.850000 -87.710000        member  \n",
       "247539  41.881320 -87.629521        member  "
      ]
     },
     "execution_count": 361,
     "metadata": {},
     "output_type": "execute_result"
    }
   ],
   "source": [
    "data.tail()"
   ]
  },
  {
   "cell_type": "code",
   "execution_count": 362,
   "id": "257f8dcc",
   "metadata": {},
   "outputs": [
    {
     "data": {
      "text/plain": [
       "(247540, 13)"
      ]
     },
     "execution_count": 362,
     "metadata": {},
     "output_type": "execute_result"
    }
   ],
   "source": [
    "data.shape"
   ]
  },
  {
   "cell_type": "markdown",
   "id": "de9e598e",
   "metadata": {},
   "source": [
    "### Transform"
   ]
  },
  {
   "cell_type": "code",
   "execution_count": 363,
   "id": "b7fc0cbf",
   "metadata": {},
   "outputs": [
    {
     "name": "stdout",
     "output_type": "stream",
     "text": [
      "<class 'pandas.core.frame.DataFrame'>\n",
      "RangeIndex: 247540 entries, 0 to 247539\n",
      "Data columns (total 13 columns):\n",
      " #   Column              Non-Null Count   Dtype  \n",
      "---  ------              --------------   -----  \n",
      " 0   ride_id             247540 non-null  object \n",
      " 1   rideable_type       247540 non-null  object \n",
      " 2   started_at          247540 non-null  object \n",
      " 3   ended_at            247540 non-null  object \n",
      " 4   start_station_name  196477 non-null  object \n",
      " 5   start_station_id    196477 non-null  object \n",
      " 6   end_station_name    194042 non-null  object \n",
      " 7   end_station_id      194042 non-null  object \n",
      " 8   start_lat           247540 non-null  float64\n",
      " 9   start_lng           247540 non-null  float64\n",
      " 10  end_lat             247396 non-null  float64\n",
      " 11  end_lng             247396 non-null  float64\n",
      " 12  member_casual       247540 non-null  object \n",
      "dtypes: float64(4), object(9)\n",
      "memory usage: 24.6+ MB\n"
     ]
    }
   ],
   "source": [
    "# Data info\n",
    "data.info()"
   ]
  },
  {
   "cell_type": "markdown",
   "id": "cf05b773",
   "metadata": {},
   "source": [
    "There are null values to be taken care of"
   ]
  },
  {
   "cell_type": "code",
   "execution_count": 364,
   "id": "43341332",
   "metadata": {},
   "outputs": [
    {
     "data": {
      "text/plain": [
       "ride_id                   0\n",
       "rideable_type             0\n",
       "started_at                0\n",
       "ended_at                  0\n",
       "start_station_name    51063\n",
       "start_station_id      51063\n",
       "end_station_name      53498\n",
       "end_station_id        53498\n",
       "start_lat                 0\n",
       "start_lng                 0\n",
       "end_lat                 144\n",
       "end_lng                 144\n",
       "member_casual             0\n",
       "dtype: int64"
      ]
     },
     "execution_count": 364,
     "metadata": {},
     "output_type": "execute_result"
    }
   ],
   "source": [
    "data.isna().sum()"
   ]
  },
  {
   "cell_type": "code",
   "execution_count": 365,
   "id": "61a3ce77",
   "metadata": {},
   "outputs": [],
   "source": [
    "data.dropna(inplace=True, ignore_index=True)"
   ]
  },
  {
   "cell_type": "code",
   "execution_count": 366,
   "id": "f5d4e8c4",
   "metadata": {},
   "outputs": [
    {
     "name": "stdout",
     "output_type": "stream",
     "text": [
      "<class 'pandas.core.frame.DataFrame'>\n",
      "RangeIndex: 176371 entries, 0 to 176370\n",
      "Data columns (total 13 columns):\n",
      " #   Column              Non-Null Count   Dtype  \n",
      "---  ------              --------------   -----  \n",
      " 0   ride_id             176371 non-null  object \n",
      " 1   rideable_type       176371 non-null  object \n",
      " 2   started_at          176371 non-null  object \n",
      " 3   ended_at            176371 non-null  object \n",
      " 4   start_station_name  176371 non-null  object \n",
      " 5   start_station_id    176371 non-null  object \n",
      " 6   end_station_name    176371 non-null  object \n",
      " 7   end_station_id      176371 non-null  object \n",
      " 8   start_lat           176371 non-null  float64\n",
      " 9   start_lng           176371 non-null  float64\n",
      " 10  end_lat             176371 non-null  float64\n",
      " 11  end_lng             176371 non-null  float64\n",
      " 12  member_casual       176371 non-null  object \n",
      "dtypes: float64(4), object(9)\n",
      "memory usage: 17.5+ MB\n"
     ]
    }
   ],
   "source": [
    "data.info()"
   ]
  },
  {
   "cell_type": "markdown",
   "id": "3adf6dff",
   "metadata": {},
   "source": [
    "Notice how the nulls were not all in the same rows with respect to each column, therefore the number of rows reduced by more than the nulls for each column. "
   ]
  },
  {
   "cell_type": "code",
   "execution_count": 367,
   "id": "abfcef30",
   "metadata": {},
   "outputs": [
    {
     "data": {
      "text/html": [
       "<div>\n",
       "<style scoped>\n",
       "    .dataframe tbody tr th:only-of-type {\n",
       "        vertical-align: middle;\n",
       "    }\n",
       "\n",
       "    .dataframe tbody tr th {\n",
       "        vertical-align: top;\n",
       "    }\n",
       "\n",
       "    .dataframe thead th {\n",
       "        text-align: right;\n",
       "    }\n",
       "</style>\n",
       "<table border=\"1\" class=\"dataframe\">\n",
       "  <thead>\n",
       "    <tr style=\"text-align: right;\">\n",
       "      <th></th>\n",
       "      <th>ride_id</th>\n",
       "      <th>rideable_type</th>\n",
       "      <th>started_at</th>\n",
       "      <th>ended_at</th>\n",
       "      <th>start_station_name</th>\n",
       "      <th>start_station_id</th>\n",
       "      <th>end_station_name</th>\n",
       "      <th>end_station_id</th>\n",
       "      <th>start_lat</th>\n",
       "      <th>start_lng</th>\n",
       "      <th>end_lat</th>\n",
       "      <th>end_lng</th>\n",
       "      <th>member_casual</th>\n",
       "    </tr>\n",
       "  </thead>\n",
       "  <tbody>\n",
       "    <tr>\n",
       "      <th>0</th>\n",
       "      <td>46F8167220E4431F</td>\n",
       "      <td>electric_bike</td>\n",
       "      <td>2021-12-07 15:06:07</td>\n",
       "      <td>2021-12-07 15:13:42</td>\n",
       "      <td>Laflin St &amp; Cullerton St</td>\n",
       "      <td>13307</td>\n",
       "      <td>Morgan St &amp; Polk St</td>\n",
       "      <td>TA1307000130</td>\n",
       "      <td>41.854833</td>\n",
       "      <td>-87.663660</td>\n",
       "      <td>41.871969</td>\n",
       "      <td>-87.650965</td>\n",
       "      <td>member</td>\n",
       "    </tr>\n",
       "    <tr>\n",
       "      <th>1</th>\n",
       "      <td>73A77762838B32FD</td>\n",
       "      <td>electric_bike</td>\n",
       "      <td>2021-12-11 03:43:29</td>\n",
       "      <td>2021-12-11 04:10:23</td>\n",
       "      <td>LaSalle Dr &amp; Huron St</td>\n",
       "      <td>KP1705001026</td>\n",
       "      <td>Clarendon Ave &amp; Leland Ave</td>\n",
       "      <td>TA1307000119</td>\n",
       "      <td>41.894405</td>\n",
       "      <td>-87.632331</td>\n",
       "      <td>41.967968</td>\n",
       "      <td>-87.650001</td>\n",
       "      <td>casual</td>\n",
       "    </tr>\n",
       "    <tr>\n",
       "      <th>2</th>\n",
       "      <td>4CF42452054F59C5</td>\n",
       "      <td>electric_bike</td>\n",
       "      <td>2021-12-15 23:10:28</td>\n",
       "      <td>2021-12-15 23:23:14</td>\n",
       "      <td>Halsted St &amp; North Branch St</td>\n",
       "      <td>KA1504000117</td>\n",
       "      <td>Broadway &amp; Barry Ave</td>\n",
       "      <td>13137</td>\n",
       "      <td>41.899357</td>\n",
       "      <td>-87.648522</td>\n",
       "      <td>41.937582</td>\n",
       "      <td>-87.644098</td>\n",
       "      <td>member</td>\n",
       "    </tr>\n",
       "    <tr>\n",
       "      <th>3</th>\n",
       "      <td>3278BA87BF698339</td>\n",
       "      <td>classic_bike</td>\n",
       "      <td>2021-12-26 16:16:10</td>\n",
       "      <td>2021-12-26 16:30:53</td>\n",
       "      <td>Halsted St &amp; North Branch St</td>\n",
       "      <td>KA1504000117</td>\n",
       "      <td>LaSalle Dr &amp; Huron St</td>\n",
       "      <td>KP1705001026</td>\n",
       "      <td>41.899390</td>\n",
       "      <td>-87.648545</td>\n",
       "      <td>41.894877</td>\n",
       "      <td>-87.632326</td>\n",
       "      <td>member</td>\n",
       "    </tr>\n",
       "    <tr>\n",
       "      <th>4</th>\n",
       "      <td>6FF54232576A3B73</td>\n",
       "      <td>electric_bike</td>\n",
       "      <td>2021-12-30 11:31:05</td>\n",
       "      <td>2021-12-30 11:51:21</td>\n",
       "      <td>Leavitt St &amp; Chicago Ave</td>\n",
       "      <td>18058</td>\n",
       "      <td>Clark St &amp; Drummond Pl</td>\n",
       "      <td>TA1307000142</td>\n",
       "      <td>41.895579</td>\n",
       "      <td>-87.682024</td>\n",
       "      <td>41.931248</td>\n",
       "      <td>-87.644336</td>\n",
       "      <td>member</td>\n",
       "    </tr>\n",
       "  </tbody>\n",
       "</table>\n",
       "</div>"
      ],
      "text/plain": [
       "            ride_id  rideable_type           started_at             ended_at  \\\n",
       "0  46F8167220E4431F  electric_bike  2021-12-07 15:06:07  2021-12-07 15:13:42   \n",
       "1  73A77762838B32FD  electric_bike  2021-12-11 03:43:29  2021-12-11 04:10:23   \n",
       "2  4CF42452054F59C5  electric_bike  2021-12-15 23:10:28  2021-12-15 23:23:14   \n",
       "3  3278BA87BF698339   classic_bike  2021-12-26 16:16:10  2021-12-26 16:30:53   \n",
       "4  6FF54232576A3B73  electric_bike  2021-12-30 11:31:05  2021-12-30 11:51:21   \n",
       "\n",
       "             start_station_name start_station_id            end_station_name  \\\n",
       "0      Laflin St & Cullerton St            13307         Morgan St & Polk St   \n",
       "1         LaSalle Dr & Huron St     KP1705001026  Clarendon Ave & Leland Ave   \n",
       "2  Halsted St & North Branch St     KA1504000117        Broadway & Barry Ave   \n",
       "3  Halsted St & North Branch St     KA1504000117       LaSalle Dr & Huron St   \n",
       "4      Leavitt St & Chicago Ave            18058      Clark St & Drummond Pl   \n",
       "\n",
       "  end_station_id  start_lat  start_lng    end_lat    end_lng member_casual  \n",
       "0   TA1307000130  41.854833 -87.663660  41.871969 -87.650965        member  \n",
       "1   TA1307000119  41.894405 -87.632331  41.967968 -87.650001        casual  \n",
       "2          13137  41.899357 -87.648522  41.937582 -87.644098        member  \n",
       "3   KP1705001026  41.899390 -87.648545  41.894877 -87.632326        member  \n",
       "4   TA1307000142  41.895579 -87.682024  41.931248 -87.644336        member  "
      ]
     },
     "execution_count": 367,
     "metadata": {},
     "output_type": "execute_result"
    }
   ],
   "source": [
    "data.head()"
   ]
  },
  {
   "cell_type": "markdown",
   "id": "91100580",
   "metadata": {},
   "source": [
    "Let's look into the individual columns now.\n",
    "\n",
    "`rideable_type`"
   ]
  },
  {
   "cell_type": "code",
   "execution_count": 368,
   "id": "cebd8605",
   "metadata": {},
   "outputs": [
    {
     "data": {
      "text/plain": [
       "rideable_type\n",
       "classic_bike     100272\n",
       "electric_bike     71221\n",
       "docked_bike        4878\n",
       "Name: count, dtype: int64"
      ]
     },
     "execution_count": 368,
     "metadata": {},
     "output_type": "execute_result"
    }
   ],
   "source": [
    "data['rideable_type'].value_counts()"
   ]
  },
  {
   "cell_type": "markdown",
   "id": "d938eb82",
   "metadata": {},
   "source": [
    "This column seems fine. \n",
    "\n",
    "`started_at`  \n",
    "For this column, we want to change the data type to a datetime format."
   ]
  },
  {
   "cell_type": "code",
   "execution_count": 369,
   "id": "a50cdbd0",
   "metadata": {},
   "outputs": [],
   "source": [
    "data['started_at'] = pd.to_datetime(data['started_at'])"
   ]
  },
  {
   "cell_type": "code",
   "execution_count": 370,
   "id": "c94da957",
   "metadata": {},
   "outputs": [
    {
     "name": "stdout",
     "output_type": "stream",
     "text": [
      "<class 'pandas.core.frame.DataFrame'>\n",
      "RangeIndex: 176371 entries, 0 to 176370\n",
      "Data columns (total 13 columns):\n",
      " #   Column              Non-Null Count   Dtype         \n",
      "---  ------              --------------   -----         \n",
      " 0   ride_id             176371 non-null  object        \n",
      " 1   rideable_type       176371 non-null  object        \n",
      " 2   started_at          176371 non-null  datetime64[ns]\n",
      " 3   ended_at            176371 non-null  object        \n",
      " 4   start_station_name  176371 non-null  object        \n",
      " 5   start_station_id    176371 non-null  object        \n",
      " 6   end_station_name    176371 non-null  object        \n",
      " 7   end_station_id      176371 non-null  object        \n",
      " 8   start_lat           176371 non-null  float64       \n",
      " 9   start_lng           176371 non-null  float64       \n",
      " 10  end_lat             176371 non-null  float64       \n",
      " 11  end_lng             176371 non-null  float64       \n",
      " 12  member_casual       176371 non-null  object        \n",
      "dtypes: datetime64[ns](1), float64(4), object(8)\n",
      "memory usage: 17.5+ MB\n"
     ]
    }
   ],
   "source": [
    "data.info()"
   ]
  },
  {
   "cell_type": "code",
   "execution_count": 371,
   "id": "95b56b1c",
   "metadata": {},
   "outputs": [
    {
     "data": {
      "text/html": [
       "<div>\n",
       "<style scoped>\n",
       "    .dataframe tbody tr th:only-of-type {\n",
       "        vertical-align: middle;\n",
       "    }\n",
       "\n",
       "    .dataframe tbody tr th {\n",
       "        vertical-align: top;\n",
       "    }\n",
       "\n",
       "    .dataframe thead th {\n",
       "        text-align: right;\n",
       "    }\n",
       "</style>\n",
       "<table border=\"1\" class=\"dataframe\">\n",
       "  <thead>\n",
       "    <tr style=\"text-align: right;\">\n",
       "      <th></th>\n",
       "      <th>ride_id</th>\n",
       "      <th>rideable_type</th>\n",
       "      <th>started_at</th>\n",
       "      <th>ended_at</th>\n",
       "      <th>start_station_name</th>\n",
       "      <th>start_station_id</th>\n",
       "      <th>end_station_name</th>\n",
       "      <th>end_station_id</th>\n",
       "      <th>start_lat</th>\n",
       "      <th>start_lng</th>\n",
       "      <th>end_lat</th>\n",
       "      <th>end_lng</th>\n",
       "      <th>member_casual</th>\n",
       "    </tr>\n",
       "  </thead>\n",
       "  <tbody>\n",
       "    <tr>\n",
       "      <th>0</th>\n",
       "      <td>46F8167220E4431F</td>\n",
       "      <td>electric_bike</td>\n",
       "      <td>2021-12-07 15:06:07</td>\n",
       "      <td>2021-12-07 15:13:42</td>\n",
       "      <td>Laflin St &amp; Cullerton St</td>\n",
       "      <td>13307</td>\n",
       "      <td>Morgan St &amp; Polk St</td>\n",
       "      <td>TA1307000130</td>\n",
       "      <td>41.854833</td>\n",
       "      <td>-87.663660</td>\n",
       "      <td>41.871969</td>\n",
       "      <td>-87.650965</td>\n",
       "      <td>member</td>\n",
       "    </tr>\n",
       "    <tr>\n",
       "      <th>1</th>\n",
       "      <td>73A77762838B32FD</td>\n",
       "      <td>electric_bike</td>\n",
       "      <td>2021-12-11 03:43:29</td>\n",
       "      <td>2021-12-11 04:10:23</td>\n",
       "      <td>LaSalle Dr &amp; Huron St</td>\n",
       "      <td>KP1705001026</td>\n",
       "      <td>Clarendon Ave &amp; Leland Ave</td>\n",
       "      <td>TA1307000119</td>\n",
       "      <td>41.894405</td>\n",
       "      <td>-87.632331</td>\n",
       "      <td>41.967968</td>\n",
       "      <td>-87.650001</td>\n",
       "      <td>casual</td>\n",
       "    </tr>\n",
       "    <tr>\n",
       "      <th>2</th>\n",
       "      <td>4CF42452054F59C5</td>\n",
       "      <td>electric_bike</td>\n",
       "      <td>2021-12-15 23:10:28</td>\n",
       "      <td>2021-12-15 23:23:14</td>\n",
       "      <td>Halsted St &amp; North Branch St</td>\n",
       "      <td>KA1504000117</td>\n",
       "      <td>Broadway &amp; Barry Ave</td>\n",
       "      <td>13137</td>\n",
       "      <td>41.899357</td>\n",
       "      <td>-87.648522</td>\n",
       "      <td>41.937582</td>\n",
       "      <td>-87.644098</td>\n",
       "      <td>member</td>\n",
       "    </tr>\n",
       "    <tr>\n",
       "      <th>3</th>\n",
       "      <td>3278BA87BF698339</td>\n",
       "      <td>classic_bike</td>\n",
       "      <td>2021-12-26 16:16:10</td>\n",
       "      <td>2021-12-26 16:30:53</td>\n",
       "      <td>Halsted St &amp; North Branch St</td>\n",
       "      <td>KA1504000117</td>\n",
       "      <td>LaSalle Dr &amp; Huron St</td>\n",
       "      <td>KP1705001026</td>\n",
       "      <td>41.899390</td>\n",
       "      <td>-87.648545</td>\n",
       "      <td>41.894877</td>\n",
       "      <td>-87.632326</td>\n",
       "      <td>member</td>\n",
       "    </tr>\n",
       "    <tr>\n",
       "      <th>4</th>\n",
       "      <td>6FF54232576A3B73</td>\n",
       "      <td>electric_bike</td>\n",
       "      <td>2021-12-30 11:31:05</td>\n",
       "      <td>2021-12-30 11:51:21</td>\n",
       "      <td>Leavitt St &amp; Chicago Ave</td>\n",
       "      <td>18058</td>\n",
       "      <td>Clark St &amp; Drummond Pl</td>\n",
       "      <td>TA1307000142</td>\n",
       "      <td>41.895579</td>\n",
       "      <td>-87.682024</td>\n",
       "      <td>41.931248</td>\n",
       "      <td>-87.644336</td>\n",
       "      <td>member</td>\n",
       "    </tr>\n",
       "  </tbody>\n",
       "</table>\n",
       "</div>"
      ],
      "text/plain": [
       "            ride_id  rideable_type          started_at             ended_at  \\\n",
       "0  46F8167220E4431F  electric_bike 2021-12-07 15:06:07  2021-12-07 15:13:42   \n",
       "1  73A77762838B32FD  electric_bike 2021-12-11 03:43:29  2021-12-11 04:10:23   \n",
       "2  4CF42452054F59C5  electric_bike 2021-12-15 23:10:28  2021-12-15 23:23:14   \n",
       "3  3278BA87BF698339   classic_bike 2021-12-26 16:16:10  2021-12-26 16:30:53   \n",
       "4  6FF54232576A3B73  electric_bike 2021-12-30 11:31:05  2021-12-30 11:51:21   \n",
       "\n",
       "             start_station_name start_station_id            end_station_name  \\\n",
       "0      Laflin St & Cullerton St            13307         Morgan St & Polk St   \n",
       "1         LaSalle Dr & Huron St     KP1705001026  Clarendon Ave & Leland Ave   \n",
       "2  Halsted St & North Branch St     KA1504000117        Broadway & Barry Ave   \n",
       "3  Halsted St & North Branch St     KA1504000117       LaSalle Dr & Huron St   \n",
       "4      Leavitt St & Chicago Ave            18058      Clark St & Drummond Pl   \n",
       "\n",
       "  end_station_id  start_lat  start_lng    end_lat    end_lng member_casual  \n",
       "0   TA1307000130  41.854833 -87.663660  41.871969 -87.650965        member  \n",
       "1   TA1307000119  41.894405 -87.632331  41.967968 -87.650001        casual  \n",
       "2          13137  41.899357 -87.648522  41.937582 -87.644098        member  \n",
       "3   KP1705001026  41.899390 -87.648545  41.894877 -87.632326        member  \n",
       "4   TA1307000142  41.895579 -87.682024  41.931248 -87.644336        member  "
      ]
     },
     "execution_count": 371,
     "metadata": {},
     "output_type": "execute_result"
    }
   ],
   "source": [
    "data.head()"
   ]
  },
  {
   "cell_type": "markdown",
   "id": "c7b49042",
   "metadata": {},
   "source": [
    "Same for `ended_at`."
   ]
  },
  {
   "cell_type": "code",
   "execution_count": 372,
   "id": "eb70fc0d",
   "metadata": {},
   "outputs": [],
   "source": [
    "data['ended_at'] = pd.to_datetime(data['ended_at'])"
   ]
  },
  {
   "cell_type": "code",
   "execution_count": 373,
   "id": "ffc15f1c",
   "metadata": {},
   "outputs": [
    {
     "name": "stdout",
     "output_type": "stream",
     "text": [
      "<class 'pandas.core.frame.DataFrame'>\n",
      "RangeIndex: 176371 entries, 0 to 176370\n",
      "Data columns (total 13 columns):\n",
      " #   Column              Non-Null Count   Dtype         \n",
      "---  ------              --------------   -----         \n",
      " 0   ride_id             176371 non-null  object        \n",
      " 1   rideable_type       176371 non-null  object        \n",
      " 2   started_at          176371 non-null  datetime64[ns]\n",
      " 3   ended_at            176371 non-null  datetime64[ns]\n",
      " 4   start_station_name  176371 non-null  object        \n",
      " 5   start_station_id    176371 non-null  object        \n",
      " 6   end_station_name    176371 non-null  object        \n",
      " 7   end_station_id      176371 non-null  object        \n",
      " 8   start_lat           176371 non-null  float64       \n",
      " 9   start_lng           176371 non-null  float64       \n",
      " 10  end_lat             176371 non-null  float64       \n",
      " 11  end_lng             176371 non-null  float64       \n",
      " 12  member_casual       176371 non-null  object        \n",
      "dtypes: datetime64[ns](2), float64(4), object(7)\n",
      "memory usage: 17.5+ MB\n"
     ]
    }
   ],
   "source": [
    "data.info()"
   ]
  },
  {
   "cell_type": "code",
   "execution_count": 374,
   "id": "8d38d369",
   "metadata": {},
   "outputs": [
    {
     "data": {
      "text/html": [
       "<div>\n",
       "<style scoped>\n",
       "    .dataframe tbody tr th:only-of-type {\n",
       "        vertical-align: middle;\n",
       "    }\n",
       "\n",
       "    .dataframe tbody tr th {\n",
       "        vertical-align: top;\n",
       "    }\n",
       "\n",
       "    .dataframe thead th {\n",
       "        text-align: right;\n",
       "    }\n",
       "</style>\n",
       "<table border=\"1\" class=\"dataframe\">\n",
       "  <thead>\n",
       "    <tr style=\"text-align: right;\">\n",
       "      <th></th>\n",
       "      <th>ride_id</th>\n",
       "      <th>rideable_type</th>\n",
       "      <th>started_at</th>\n",
       "      <th>ended_at</th>\n",
       "      <th>start_station_name</th>\n",
       "      <th>start_station_id</th>\n",
       "      <th>end_station_name</th>\n",
       "      <th>end_station_id</th>\n",
       "      <th>start_lat</th>\n",
       "      <th>start_lng</th>\n",
       "      <th>end_lat</th>\n",
       "      <th>end_lng</th>\n",
       "      <th>member_casual</th>\n",
       "    </tr>\n",
       "  </thead>\n",
       "  <tbody>\n",
       "    <tr>\n",
       "      <th>0</th>\n",
       "      <td>46F8167220E4431F</td>\n",
       "      <td>electric_bike</td>\n",
       "      <td>2021-12-07 15:06:07</td>\n",
       "      <td>2021-12-07 15:13:42</td>\n",
       "      <td>Laflin St &amp; Cullerton St</td>\n",
       "      <td>13307</td>\n",
       "      <td>Morgan St &amp; Polk St</td>\n",
       "      <td>TA1307000130</td>\n",
       "      <td>41.854833</td>\n",
       "      <td>-87.663660</td>\n",
       "      <td>41.871969</td>\n",
       "      <td>-87.650965</td>\n",
       "      <td>member</td>\n",
       "    </tr>\n",
       "    <tr>\n",
       "      <th>1</th>\n",
       "      <td>73A77762838B32FD</td>\n",
       "      <td>electric_bike</td>\n",
       "      <td>2021-12-11 03:43:29</td>\n",
       "      <td>2021-12-11 04:10:23</td>\n",
       "      <td>LaSalle Dr &amp; Huron St</td>\n",
       "      <td>KP1705001026</td>\n",
       "      <td>Clarendon Ave &amp; Leland Ave</td>\n",
       "      <td>TA1307000119</td>\n",
       "      <td>41.894405</td>\n",
       "      <td>-87.632331</td>\n",
       "      <td>41.967968</td>\n",
       "      <td>-87.650001</td>\n",
       "      <td>casual</td>\n",
       "    </tr>\n",
       "    <tr>\n",
       "      <th>2</th>\n",
       "      <td>4CF42452054F59C5</td>\n",
       "      <td>electric_bike</td>\n",
       "      <td>2021-12-15 23:10:28</td>\n",
       "      <td>2021-12-15 23:23:14</td>\n",
       "      <td>Halsted St &amp; North Branch St</td>\n",
       "      <td>KA1504000117</td>\n",
       "      <td>Broadway &amp; Barry Ave</td>\n",
       "      <td>13137</td>\n",
       "      <td>41.899357</td>\n",
       "      <td>-87.648522</td>\n",
       "      <td>41.937582</td>\n",
       "      <td>-87.644098</td>\n",
       "      <td>member</td>\n",
       "    </tr>\n",
       "    <tr>\n",
       "      <th>3</th>\n",
       "      <td>3278BA87BF698339</td>\n",
       "      <td>classic_bike</td>\n",
       "      <td>2021-12-26 16:16:10</td>\n",
       "      <td>2021-12-26 16:30:53</td>\n",
       "      <td>Halsted St &amp; North Branch St</td>\n",
       "      <td>KA1504000117</td>\n",
       "      <td>LaSalle Dr &amp; Huron St</td>\n",
       "      <td>KP1705001026</td>\n",
       "      <td>41.899390</td>\n",
       "      <td>-87.648545</td>\n",
       "      <td>41.894877</td>\n",
       "      <td>-87.632326</td>\n",
       "      <td>member</td>\n",
       "    </tr>\n",
       "    <tr>\n",
       "      <th>4</th>\n",
       "      <td>6FF54232576A3B73</td>\n",
       "      <td>electric_bike</td>\n",
       "      <td>2021-12-30 11:31:05</td>\n",
       "      <td>2021-12-30 11:51:21</td>\n",
       "      <td>Leavitt St &amp; Chicago Ave</td>\n",
       "      <td>18058</td>\n",
       "      <td>Clark St &amp; Drummond Pl</td>\n",
       "      <td>TA1307000142</td>\n",
       "      <td>41.895579</td>\n",
       "      <td>-87.682024</td>\n",
       "      <td>41.931248</td>\n",
       "      <td>-87.644336</td>\n",
       "      <td>member</td>\n",
       "    </tr>\n",
       "  </tbody>\n",
       "</table>\n",
       "</div>"
      ],
      "text/plain": [
       "            ride_id  rideable_type          started_at            ended_at  \\\n",
       "0  46F8167220E4431F  electric_bike 2021-12-07 15:06:07 2021-12-07 15:13:42   \n",
       "1  73A77762838B32FD  electric_bike 2021-12-11 03:43:29 2021-12-11 04:10:23   \n",
       "2  4CF42452054F59C5  electric_bike 2021-12-15 23:10:28 2021-12-15 23:23:14   \n",
       "3  3278BA87BF698339   classic_bike 2021-12-26 16:16:10 2021-12-26 16:30:53   \n",
       "4  6FF54232576A3B73  electric_bike 2021-12-30 11:31:05 2021-12-30 11:51:21   \n",
       "\n",
       "             start_station_name start_station_id            end_station_name  \\\n",
       "0      Laflin St & Cullerton St            13307         Morgan St & Polk St   \n",
       "1         LaSalle Dr & Huron St     KP1705001026  Clarendon Ave & Leland Ave   \n",
       "2  Halsted St & North Branch St     KA1504000117        Broadway & Barry Ave   \n",
       "3  Halsted St & North Branch St     KA1504000117       LaSalle Dr & Huron St   \n",
       "4      Leavitt St & Chicago Ave            18058      Clark St & Drummond Pl   \n",
       "\n",
       "  end_station_id  start_lat  start_lng    end_lat    end_lng member_casual  \n",
       "0   TA1307000130  41.854833 -87.663660  41.871969 -87.650965        member  \n",
       "1   TA1307000119  41.894405 -87.632331  41.967968 -87.650001        casual  \n",
       "2          13137  41.899357 -87.648522  41.937582 -87.644098        member  \n",
       "3   KP1705001026  41.899390 -87.648545  41.894877 -87.632326        member  \n",
       "4   TA1307000142  41.895579 -87.682024  41.931248 -87.644336        member  "
      ]
     },
     "execution_count": 374,
     "metadata": {},
     "output_type": "execute_result"
    }
   ],
   "source": [
    "data.head()"
   ]
  },
  {
   "cell_type": "markdown",
   "id": "019a78a6",
   "metadata": {},
   "source": [
    "Next, we check `start_station_name`."
   ]
  },
  {
   "cell_type": "code",
   "execution_count": 375,
   "id": "069e7965",
   "metadata": {},
   "outputs": [
    {
     "data": {
      "text/plain": [
       "start_station_name\n",
       "Kingsbury St & Kinzie St        1796\n",
       "Clark St & Elm St               1569\n",
       "Wells St & Concord Ln           1384\n",
       "Clinton St & Washington Blvd    1369\n",
       "Clinton St & Madison St         1357\n",
       "                                ... \n",
       "Parkside Ave & Armitage Ave        1\n",
       "Harding Ave & 26th St              1\n",
       "Plainfield & Irving Park           1\n",
       "Halsted St & 69th St               1\n",
       "Western Ave & 62nd St              1\n",
       "Name: count, Length: 785, dtype: int64"
      ]
     },
     "execution_count": 375,
     "metadata": {},
     "output_type": "execute_result"
    }
   ],
   "source": [
    "data['start_station_name'].value_counts()"
   ]
  },
  {
   "cell_type": "code",
   "execution_count": 376,
   "id": "e3a8dfa2",
   "metadata": {},
   "outputs": [
    {
     "data": {
      "text/plain": [
       "array(['Laflin St & Cullerton St', 'LaSalle Dr & Huron St',\n",
       "       'Halsted St & North Branch St', ..., 'Canal St & Madison St',\n",
       "       'Canal St & Madison St', 'Michigan Ave & Jackson Blvd'],\n",
       "      dtype=object)"
      ]
     },
     "execution_count": 376,
     "metadata": {},
     "output_type": "execute_result"
    }
   ],
   "source": [
    "data['start_station_name'].values"
   ]
  },
  {
   "cell_type": "markdown",
   "id": "b1a2b73c",
   "metadata": {},
   "source": [
    "This column seems to be fine thus far. We will check `end_station_name` as well. "
   ]
  },
  {
   "cell_type": "code",
   "execution_count": 377,
   "id": "a8999e72",
   "metadata": {},
   "outputs": [
    {
     "data": {
      "text/plain": [
       "end_station_name\n",
       "Kingsbury St & Kinzie St    1710\n",
       "Clark St & Elm St           1555\n",
       "Streeter Dr & Grand Ave     1487\n",
       "St. Clair St & Erie St      1487\n",
       "Clinton St & Madison St     1433\n",
       "                            ... \n",
       "Kostner Ave & 63rd St          1\n",
       "Harding Ave & 26th St          1\n",
       "Loomis Blvd & 84th St          1\n",
       "Jeffery Blvd & 76th St         1\n",
       "Spaulding Ave & 63rd St        1\n",
       "Name: count, Length: 780, dtype: int64"
      ]
     },
     "execution_count": 377,
     "metadata": {},
     "output_type": "execute_result"
    }
   ],
   "source": [
    "data['end_station_name'].value_counts()"
   ]
  },
  {
   "cell_type": "code",
   "execution_count": 378,
   "id": "08bfeb51",
   "metadata": {},
   "outputs": [
    {
     "data": {
      "text/plain": [
       "array(['Morgan St & Polk St', 'Clarendon Ave & Leland Ave',\n",
       "       'Broadway & Barry Ave', ..., 'Kingsbury St & Kinzie St',\n",
       "       'Dearborn St & Monroe St', 'Dearborn St & Monroe St'], dtype=object)"
      ]
     },
     "execution_count": 378,
     "metadata": {},
     "output_type": "execute_result"
    }
   ],
   "source": [
    "data['end_station_name'].values"
   ]
  },
  {
   "cell_type": "code",
   "execution_count": 379,
   "id": "74c77120",
   "metadata": {},
   "outputs": [
    {
     "data": {
      "text/plain": [
       "28"
      ]
     },
     "execution_count": 379,
     "metadata": {},
     "output_type": "execute_result"
    }
   ],
   "source": [
    "sum(~data['start_station_name'].isin(data['end_station_name']).values)"
   ]
  },
  {
   "cell_type": "code",
   "execution_count": 380,
   "id": "d9aaa012",
   "metadata": {},
   "outputs": [
    {
     "data": {
      "text/plain": [
       "17"
      ]
     },
     "execution_count": 380,
     "metadata": {},
     "output_type": "execute_result"
    }
   ],
   "source": [
    "sum(~data['end_station_name'].isin(data['start_station_name']).values)"
   ]
  },
  {
   "cell_type": "code",
   "execution_count": 381,
   "id": "1fe55175",
   "metadata": {},
   "outputs": [
    {
     "data": {
      "text/plain": [
       "17"
      ]
     },
     "execution_count": 381,
     "metadata": {},
     "output_type": "execute_result"
    }
   ],
   "source": [
    "sum(~data['end_station_id'].isin(data['start_station_id']).values)"
   ]
  },
  {
   "cell_type": "code",
   "execution_count": 382,
   "id": "d56419b4",
   "metadata": {},
   "outputs": [
    {
     "data": {
      "text/plain": [
       "28"
      ]
     },
     "execution_count": 382,
     "metadata": {},
     "output_type": "execute_result"
    }
   ],
   "source": [
    "sum(~data['start_station_id'].isin(data['end_station_id']).values)"
   ]
  },
  {
   "cell_type": "markdown",
   "id": "cd14903c",
   "metadata": {},
   "source": [
    "Now we will check `start_station_id`."
   ]
  },
  {
   "cell_type": "code",
   "execution_count": 383,
   "id": "b5d35ee7",
   "metadata": {},
   "outputs": [
    {
     "data": {
      "text/plain": [
       "start_station_id\n",
       "KA1503000043    1796\n",
       "TA1307000039    1569\n",
       "TA1308000050    1384\n",
       "WL-012          1369\n",
       "TA1305000032    1357\n",
       "                ... \n",
       "354                1\n",
       "332.0              1\n",
       "327                1\n",
       "15597              1\n",
       "348                1\n",
       "Name: count, Length: 783, dtype: int64"
      ]
     },
     "execution_count": 383,
     "metadata": {},
     "output_type": "execute_result"
    }
   ],
   "source": [
    "data['start_station_id'].value_counts()"
   ]
  },
  {
   "cell_type": "markdown",
   "id": "d916d8bf",
   "metadata": {},
   "source": [
    "Let's also look at `end_station_id` since they should contain similar if not the same station id's. We are looking to see if there are any stations that are outliers, that is it only appears in either `start_station_id` or `end_station_id` and not both. "
   ]
  },
  {
   "cell_type": "code",
   "execution_count": 384,
   "id": "b2a082b2",
   "metadata": {},
   "outputs": [
    {
     "data": {
      "text/plain": [
       "end_station_id\n",
       "KA1503000043    1710\n",
       "TA1307000039    1555\n",
       "13016           1487\n",
       "13022           1487\n",
       "TA1305000032    1433\n",
       "                ... \n",
       "420                1\n",
       "406                1\n",
       "20114              1\n",
       "588                1\n",
       "20242              1\n",
       "Name: count, Length: 778, dtype: int64"
      ]
     },
     "execution_count": 384,
     "metadata": {},
     "output_type": "execute_result"
    }
   ],
   "source": [
    "data['end_station_id'].value_counts()"
   ]
  },
  {
   "cell_type": "markdown",
   "id": "35221d25",
   "metadata": {},
   "source": [
    "We can checkout which stations only appear in one column and not the other using `isin()`."
   ]
  },
  {
   "cell_type": "code",
   "execution_count": 385,
   "id": "49dcb4ae",
   "metadata": {},
   "outputs": [
    {
     "data": {
      "text/html": [
       "<div>\n",
       "<style scoped>\n",
       "    .dataframe tbody tr th:only-of-type {\n",
       "        vertical-align: middle;\n",
       "    }\n",
       "\n",
       "    .dataframe tbody tr th {\n",
       "        vertical-align: top;\n",
       "    }\n",
       "\n",
       "    .dataframe thead th {\n",
       "        text-align: right;\n",
       "    }\n",
       "</style>\n",
       "<table border=\"1\" class=\"dataframe\">\n",
       "  <thead>\n",
       "    <tr style=\"text-align: right;\">\n",
       "      <th></th>\n",
       "      <th>ride_id</th>\n",
       "      <th>rideable_type</th>\n",
       "      <th>started_at</th>\n",
       "      <th>ended_at</th>\n",
       "      <th>start_station_name</th>\n",
       "      <th>start_station_id</th>\n",
       "      <th>end_station_name</th>\n",
       "      <th>end_station_id</th>\n",
       "      <th>start_lat</th>\n",
       "      <th>start_lng</th>\n",
       "      <th>end_lat</th>\n",
       "      <th>end_lng</th>\n",
       "      <th>member_casual</th>\n",
       "    </tr>\n",
       "  </thead>\n",
       "  <tbody>\n",
       "    <tr>\n",
       "      <th>9963</th>\n",
       "      <td>4C44020E33AA2EDE</td>\n",
       "      <td>classic_bike</td>\n",
       "      <td>2021-12-25 11:29:36</td>\n",
       "      <td>2021-12-25 11:36:07</td>\n",
       "      <td>Greenwood Ave &amp; 79th St</td>\n",
       "      <td>576</td>\n",
       "      <td>Woodlawn Ave &amp; 75th St</td>\n",
       "      <td>569</td>\n",
       "      <td>41.751294</td>\n",
       "      <td>-87.597552</td>\n",
       "      <td>41.759160</td>\n",
       "      <td>-87.595751</td>\n",
       "      <td>member</td>\n",
       "    </tr>\n",
       "    <tr>\n",
       "      <th>11149</th>\n",
       "      <td>1674B64272BAAACE</td>\n",
       "      <td>electric_bike</td>\n",
       "      <td>2021-12-31 11:05:21</td>\n",
       "      <td>2021-12-31 11:27:14</td>\n",
       "      <td>St Louis Ave &amp; 59th St</td>\n",
       "      <td>387</td>\n",
       "      <td>St Louis Ave &amp; Norman Bobbins Ave</td>\n",
       "      <td>385</td>\n",
       "      <td>41.790000</td>\n",
       "      <td>-87.710000</td>\n",
       "      <td>41.790000</td>\n",
       "      <td>-87.710000</td>\n",
       "      <td>casual</td>\n",
       "    </tr>\n",
       "    <tr>\n",
       "      <th>32096</th>\n",
       "      <td>6A2EA8EEBE2BD89D</td>\n",
       "      <td>classic_bike</td>\n",
       "      <td>2021-12-15 12:50:40</td>\n",
       "      <td>2021-12-15 13:01:37</td>\n",
       "      <td>Cottage Grove Ave &amp; 83rd St</td>\n",
       "      <td>585</td>\n",
       "      <td>Wabash Ave &amp; 83rd St</td>\n",
       "      <td>587</td>\n",
       "      <td>41.743441</td>\n",
       "      <td>-87.604836</td>\n",
       "      <td>41.743316</td>\n",
       "      <td>-87.622849</td>\n",
       "      <td>member</td>\n",
       "    </tr>\n",
       "    <tr>\n",
       "      <th>32575</th>\n",
       "      <td>69917D85AF85EA63</td>\n",
       "      <td>classic_bike</td>\n",
       "      <td>2021-12-10 10:57:25</td>\n",
       "      <td>2021-12-10 11:01:56</td>\n",
       "      <td>Cottage Grove Ave &amp; 111th Pl</td>\n",
       "      <td>20131</td>\n",
       "      <td>Doty Ave &amp; 111th St</td>\n",
       "      <td>20114</td>\n",
       "      <td>41.691710</td>\n",
       "      <td>-87.610002</td>\n",
       "      <td>41.695010</td>\n",
       "      <td>-87.598715</td>\n",
       "      <td>member</td>\n",
       "    </tr>\n",
       "    <tr>\n",
       "      <th>33043</th>\n",
       "      <td>DCF18407C71127E7</td>\n",
       "      <td>classic_bike</td>\n",
       "      <td>2021-12-11 11:39:47</td>\n",
       "      <td>2021-12-11 11:43:33</td>\n",
       "      <td>State St &amp; 79th St</td>\n",
       "      <td>573</td>\n",
       "      <td>Wabash Ave &amp; 83rd St</td>\n",
       "      <td>587</td>\n",
       "      <td>41.750794</td>\n",
       "      <td>-87.624424</td>\n",
       "      <td>41.743316</td>\n",
       "      <td>-87.622849</td>\n",
       "      <td>member</td>\n",
       "    </tr>\n",
       "    <tr>\n",
       "      <th>58629</th>\n",
       "      <td>A114E7D7423DF20B</td>\n",
       "      <td>electric_bike</td>\n",
       "      <td>2021-12-31 23:54:42</td>\n",
       "      <td>2022-01-01 00:04:28</td>\n",
       "      <td>Menard Ave &amp; North Ave</td>\n",
       "      <td>376</td>\n",
       "      <td>Bloomingdale Ave &amp; Harlem Ave</td>\n",
       "      <td>377</td>\n",
       "      <td>41.910000</td>\n",
       "      <td>-87.770000</td>\n",
       "      <td>41.910000</td>\n",
       "      <td>-87.810000</td>\n",
       "      <td>casual</td>\n",
       "    </tr>\n",
       "    <tr>\n",
       "      <th>66063</th>\n",
       "      <td>55B43BF2C14A5301</td>\n",
       "      <td>electric_bike</td>\n",
       "      <td>2021-12-01 17:49:00</td>\n",
       "      <td>2021-12-01 17:58:22</td>\n",
       "      <td>Ravenswood Ave &amp; Lawrence Ave</td>\n",
       "      <td>TA1309000066</td>\n",
       "      <td>N Shore Channel Trail &amp; Argyle Ave</td>\n",
       "      <td>444</td>\n",
       "      <td>41.969141</td>\n",
       "      <td>-87.674261</td>\n",
       "      <td>41.970000</td>\n",
       "      <td>-87.700000</td>\n",
       "      <td>casual</td>\n",
       "    </tr>\n",
       "    <tr>\n",
       "      <th>66070</th>\n",
       "      <td>8CB781F99429D0E1</td>\n",
       "      <td>electric_bike</td>\n",
       "      <td>2021-12-27 17:47:07</td>\n",
       "      <td>2021-12-27 17:55:32</td>\n",
       "      <td>Ravenswood Ave &amp; Lawrence Ave</td>\n",
       "      <td>TA1309000066</td>\n",
       "      <td>N Shore Channel Trail &amp; Argyle Ave</td>\n",
       "      <td>444</td>\n",
       "      <td>41.969212</td>\n",
       "      <td>-87.674238</td>\n",
       "      <td>41.970000</td>\n",
       "      <td>-87.700000</td>\n",
       "      <td>casual</td>\n",
       "    </tr>\n",
       "    <tr>\n",
       "      <th>67195</th>\n",
       "      <td>18CBC7C4C358D88D</td>\n",
       "      <td>electric_bike</td>\n",
       "      <td>2021-12-16 17:48:55</td>\n",
       "      <td>2021-12-16 17:58:42</td>\n",
       "      <td>Ravenswood Ave &amp; Lawrence Ave</td>\n",
       "      <td>TA1309000066</td>\n",
       "      <td>N Shore Channel Trail &amp; Argyle Ave</td>\n",
       "      <td>444</td>\n",
       "      <td>41.969053</td>\n",
       "      <td>-87.674172</td>\n",
       "      <td>41.970000</td>\n",
       "      <td>-87.700000</td>\n",
       "      <td>casual</td>\n",
       "    </tr>\n",
       "    <tr>\n",
       "      <th>71464</th>\n",
       "      <td>C22E95C827F0A068</td>\n",
       "      <td>electric_bike</td>\n",
       "      <td>2021-12-04 00:15:46</td>\n",
       "      <td>2021-12-04 00:37:26</td>\n",
       "      <td>Kildare Ave &amp; 47th St</td>\n",
       "      <td>401</td>\n",
       "      <td>Spaulding Ave &amp; 63rd St</td>\n",
       "      <td>349</td>\n",
       "      <td>41.810000</td>\n",
       "      <td>-87.730000</td>\n",
       "      <td>41.780000</td>\n",
       "      <td>-87.710000</td>\n",
       "      <td>casual</td>\n",
       "    </tr>\n",
       "    <tr>\n",
       "      <th>73745</th>\n",
       "      <td>1CAA2BC8315143D7</td>\n",
       "      <td>electric_bike</td>\n",
       "      <td>2021-12-07 17:59:50</td>\n",
       "      <td>2021-12-07 18:12:59</td>\n",
       "      <td>Chicago State University</td>\n",
       "      <td>20106</td>\n",
       "      <td>Maryland Ave &amp; 104th St</td>\n",
       "      <td>20134</td>\n",
       "      <td>41.718973</td>\n",
       "      <td>-87.608306</td>\n",
       "      <td>41.710000</td>\n",
       "      <td>-87.600000</td>\n",
       "      <td>member</td>\n",
       "    </tr>\n",
       "    <tr>\n",
       "      <th>82042</th>\n",
       "      <td>22D153A5B1D92C59</td>\n",
       "      <td>electric_bike</td>\n",
       "      <td>2021-12-03 12:24:01</td>\n",
       "      <td>2021-12-03 13:17:23</td>\n",
       "      <td>Stony Island Ave &amp; 75th St</td>\n",
       "      <td>KA1503000019</td>\n",
       "      <td>Halsted St &amp; 104th St</td>\n",
       "      <td>20125</td>\n",
       "      <td>41.758654</td>\n",
       "      <td>-87.586982</td>\n",
       "      <td>41.705189</td>\n",
       "      <td>-87.642419</td>\n",
       "      <td>casual</td>\n",
       "    </tr>\n",
       "    <tr>\n",
       "      <th>88293</th>\n",
       "      <td>553B407FB140DF22</td>\n",
       "      <td>electric_bike</td>\n",
       "      <td>2021-12-31 12:55:40</td>\n",
       "      <td>2021-12-31 13:34:48</td>\n",
       "      <td>Dodge Ave &amp; Church St</td>\n",
       "      <td>600</td>\n",
       "      <td>Washtenaw Ave &amp; Peterson Ave</td>\n",
       "      <td>458</td>\n",
       "      <td>42.048323</td>\n",
       "      <td>-87.698414</td>\n",
       "      <td>41.990000</td>\n",
       "      <td>-87.700000</td>\n",
       "      <td>casual</td>\n",
       "    </tr>\n",
       "    <tr>\n",
       "      <th>113182</th>\n",
       "      <td>D2E5817C57AB3FCB</td>\n",
       "      <td>electric_bike</td>\n",
       "      <td>2021-12-18 09:49:36</td>\n",
       "      <td>2021-12-18 10:16:59</td>\n",
       "      <td>Laramie Ave &amp; Kinzie St</td>\n",
       "      <td>530</td>\n",
       "      <td>Washtenaw Ave &amp; Polk St</td>\n",
       "      <td>420</td>\n",
       "      <td>41.887796</td>\n",
       "      <td>-87.755668</td>\n",
       "      <td>41.870000</td>\n",
       "      <td>-87.690000</td>\n",
       "      <td>casual</td>\n",
       "    </tr>\n",
       "    <tr>\n",
       "      <th>121309</th>\n",
       "      <td>1E5D9F7958110A87</td>\n",
       "      <td>classic_bike</td>\n",
       "      <td>2021-12-26 09:44:28</td>\n",
       "      <td>2021-12-26 10:04:41</td>\n",
       "      <td>South Shore Dr &amp; 74th St</td>\n",
       "      <td>KA1503000020</td>\n",
       "      <td>Woodlawn Ave &amp; 75th St</td>\n",
       "      <td>569</td>\n",
       "      <td>41.762189</td>\n",
       "      <td>-87.559275</td>\n",
       "      <td>41.759160</td>\n",
       "      <td>-87.595751</td>\n",
       "      <td>member</td>\n",
       "    </tr>\n",
       "    <tr>\n",
       "      <th>154339</th>\n",
       "      <td>669983637A8AB89D</td>\n",
       "      <td>electric_bike</td>\n",
       "      <td>2021-12-02 15:06:11</td>\n",
       "      <td>2021-12-02 15:27:31</td>\n",
       "      <td>Clark St &amp; Ida B Wells Dr</td>\n",
       "      <td>TA1305000009</td>\n",
       "      <td>Sacramento Blvd &amp; Polk St</td>\n",
       "      <td>419</td>\n",
       "      <td>41.875965</td>\n",
       "      <td>-87.630980</td>\n",
       "      <td>41.870000</td>\n",
       "      <td>-87.700000</td>\n",
       "      <td>casual</td>\n",
       "    </tr>\n",
       "    <tr>\n",
       "      <th>165107</th>\n",
       "      <td>40EC0DC4C08DED06</td>\n",
       "      <td>electric_bike</td>\n",
       "      <td>2021-12-26 13:42:20</td>\n",
       "      <td>2021-12-26 14:09:02</td>\n",
       "      <td>Hamlin Ave &amp; 62nd Pl</td>\n",
       "      <td>350</td>\n",
       "      <td>Pulaski Rd &amp; 60th St</td>\n",
       "      <td>404</td>\n",
       "      <td>41.780000</td>\n",
       "      <td>-87.720000</td>\n",
       "      <td>41.780000</td>\n",
       "      <td>-87.720000</td>\n",
       "      <td>casual</td>\n",
       "    </tr>\n",
       "  </tbody>\n",
       "</table>\n",
       "</div>"
      ],
      "text/plain": [
       "                 ride_id  rideable_type          started_at  \\\n",
       "9963    4C44020E33AA2EDE   classic_bike 2021-12-25 11:29:36   \n",
       "11149   1674B64272BAAACE  electric_bike 2021-12-31 11:05:21   \n",
       "32096   6A2EA8EEBE2BD89D   classic_bike 2021-12-15 12:50:40   \n",
       "32575   69917D85AF85EA63   classic_bike 2021-12-10 10:57:25   \n",
       "33043   DCF18407C71127E7   classic_bike 2021-12-11 11:39:47   \n",
       "58629   A114E7D7423DF20B  electric_bike 2021-12-31 23:54:42   \n",
       "66063   55B43BF2C14A5301  electric_bike 2021-12-01 17:49:00   \n",
       "66070   8CB781F99429D0E1  electric_bike 2021-12-27 17:47:07   \n",
       "67195   18CBC7C4C358D88D  electric_bike 2021-12-16 17:48:55   \n",
       "71464   C22E95C827F0A068  electric_bike 2021-12-04 00:15:46   \n",
       "73745   1CAA2BC8315143D7  electric_bike 2021-12-07 17:59:50   \n",
       "82042   22D153A5B1D92C59  electric_bike 2021-12-03 12:24:01   \n",
       "88293   553B407FB140DF22  electric_bike 2021-12-31 12:55:40   \n",
       "113182  D2E5817C57AB3FCB  electric_bike 2021-12-18 09:49:36   \n",
       "121309  1E5D9F7958110A87   classic_bike 2021-12-26 09:44:28   \n",
       "154339  669983637A8AB89D  electric_bike 2021-12-02 15:06:11   \n",
       "165107  40EC0DC4C08DED06  electric_bike 2021-12-26 13:42:20   \n",
       "\n",
       "                  ended_at             start_station_name start_station_id  \\\n",
       "9963   2021-12-25 11:36:07        Greenwood Ave & 79th St              576   \n",
       "11149  2021-12-31 11:27:14         St Louis Ave & 59th St              387   \n",
       "32096  2021-12-15 13:01:37    Cottage Grove Ave & 83rd St              585   \n",
       "32575  2021-12-10 11:01:56   Cottage Grove Ave & 111th Pl            20131   \n",
       "33043  2021-12-11 11:43:33             State St & 79th St              573   \n",
       "58629  2022-01-01 00:04:28         Menard Ave & North Ave              376   \n",
       "66063  2021-12-01 17:58:22  Ravenswood Ave & Lawrence Ave     TA1309000066   \n",
       "66070  2021-12-27 17:55:32  Ravenswood Ave & Lawrence Ave     TA1309000066   \n",
       "67195  2021-12-16 17:58:42  Ravenswood Ave & Lawrence Ave     TA1309000066   \n",
       "71464  2021-12-04 00:37:26          Kildare Ave & 47th St              401   \n",
       "73745  2021-12-07 18:12:59       Chicago State University            20106   \n",
       "82042  2021-12-03 13:17:23     Stony Island Ave & 75th St     KA1503000019   \n",
       "88293  2021-12-31 13:34:48          Dodge Ave & Church St              600   \n",
       "113182 2021-12-18 10:16:59        Laramie Ave & Kinzie St              530   \n",
       "121309 2021-12-26 10:04:41       South Shore Dr & 74th St     KA1503000020   \n",
       "154339 2021-12-02 15:27:31      Clark St & Ida B Wells Dr     TA1305000009   \n",
       "165107 2021-12-26 14:09:02           Hamlin Ave & 62nd Pl              350   \n",
       "\n",
       "                          end_station_name end_station_id  start_lat  \\\n",
       "9963                Woodlawn Ave & 75th St            569  41.751294   \n",
       "11149    St Louis Ave & Norman Bobbins Ave            385  41.790000   \n",
       "32096                 Wabash Ave & 83rd St            587  41.743441   \n",
       "32575                  Doty Ave & 111th St          20114  41.691710   \n",
       "33043                 Wabash Ave & 83rd St            587  41.750794   \n",
       "58629        Bloomingdale Ave & Harlem Ave            377  41.910000   \n",
       "66063   N Shore Channel Trail & Argyle Ave            444  41.969141   \n",
       "66070   N Shore Channel Trail & Argyle Ave            444  41.969212   \n",
       "67195   N Shore Channel Trail & Argyle Ave            444  41.969053   \n",
       "71464              Spaulding Ave & 63rd St            349  41.810000   \n",
       "73745              Maryland Ave & 104th St          20134  41.718973   \n",
       "82042                Halsted St & 104th St          20125  41.758654   \n",
       "88293         Washtenaw Ave & Peterson Ave            458  42.048323   \n",
       "113182             Washtenaw Ave & Polk St            420  41.887796   \n",
       "121309              Woodlawn Ave & 75th St            569  41.762189   \n",
       "154339           Sacramento Blvd & Polk St            419  41.875965   \n",
       "165107                Pulaski Rd & 60th St            404  41.780000   \n",
       "\n",
       "        start_lng    end_lat    end_lng member_casual  \n",
       "9963   -87.597552  41.759160 -87.595751        member  \n",
       "11149  -87.710000  41.790000 -87.710000        casual  \n",
       "32096  -87.604836  41.743316 -87.622849        member  \n",
       "32575  -87.610002  41.695010 -87.598715        member  \n",
       "33043  -87.624424  41.743316 -87.622849        member  \n",
       "58629  -87.770000  41.910000 -87.810000        casual  \n",
       "66063  -87.674261  41.970000 -87.700000        casual  \n",
       "66070  -87.674238  41.970000 -87.700000        casual  \n",
       "67195  -87.674172  41.970000 -87.700000        casual  \n",
       "71464  -87.730000  41.780000 -87.710000        casual  \n",
       "73745  -87.608306  41.710000 -87.600000        member  \n",
       "82042  -87.586982  41.705189 -87.642419        casual  \n",
       "88293  -87.698414  41.990000 -87.700000        casual  \n",
       "113182 -87.755668  41.870000 -87.690000        casual  \n",
       "121309 -87.559275  41.759160 -87.595751        member  \n",
       "154339 -87.630980  41.870000 -87.700000        casual  \n",
       "165107 -87.720000  41.780000 -87.720000        casual  "
      ]
     },
     "execution_count": 385,
     "metadata": {},
     "output_type": "execute_result"
    }
   ],
   "source": [
    "# Check which end_station_id rows are not in start_station_id\n",
    "data[~data['end_station_id'].isin(data['start_station_id'])]"
   ]
  },
  {
   "cell_type": "code",
   "execution_count": 386,
   "id": "6894cbd0",
   "metadata": {},
   "outputs": [],
   "source": [
    "# Define these as rows we want to drop\n",
    "rows_drop = data[~data['end_station_id'].isin(data['start_station_id'])].index"
   ]
  },
  {
   "cell_type": "markdown",
   "id": "6b09ad4b",
   "metadata": {},
   "source": [
    "We will do the same for the opposite, drop rows in `end_station_id` that are not in `start_station_id`. To make sure we are dropping the correct rows, we will append those results to `rows_drop` before applying it to our dataframe."
   ]
  },
  {
   "cell_type": "code",
   "execution_count": 391,
   "id": "63bc053f",
   "metadata": {},
   "outputs": [
    {
     "data": {
      "text/plain": [
       "Index([  9963,  11149,  32096,  32575,  33043,  58629,  66063,  66070,  67195,\n",
       "        71464,  73745,  82042,  88293, 113182, 121309, 154339, 165107],\n",
       "      dtype='int64')"
      ]
     },
     "execution_count": 391,
     "metadata": {},
     "output_type": "execute_result"
    }
   ],
   "source": [
    "data[~data['end_station_id'].isin(data['start_station_id'])].index"
   ]
  },
  {
   "cell_type": "code",
   "execution_count": 392,
   "id": "b8c5af5f",
   "metadata": {},
   "outputs": [],
   "source": [
    "rows_drop = rows_drop.insert(len(rows_drop), data[~data['start_station_id'].isin(data['end_station_id'])].index)"
   ]
  },
  {
   "cell_type": "code",
   "execution_count": 393,
   "id": "59496ce3",
   "metadata": {},
   "outputs": [
    {
     "data": {
      "text/plain": [
       "Index([  9963,  11149,  32096,  32575,  33043,  58629,  66063,  66070,  67195,\n",
       "        71464,  73745,  82042,  88293, 113182, 121309, 154339, 165107,    424,\n",
       "          435,   2819,   5476,   6858,   9648,  10703,  11073,  17626,  17755,\n",
       "        18081,  24282,  27006,  37133,  55181,  59321,  60134,  71464,  77793,\n",
       "        92602,  96514, 100210, 113938, 137775, 137777, 155541, 156442, 159825],\n",
       "      dtype='int64')"
      ]
     },
     "execution_count": 393,
     "metadata": {},
     "output_type": "execute_result"
    }
   ],
   "source": [
    "rows_drop"
   ]
  },
  {
   "cell_type": "markdown",
   "id": "1b8009d0",
   "metadata": {},
   "source": [
    "Let's drop these rows."
   ]
  },
  {
   "cell_type": "code",
   "execution_count": 394,
   "id": "75d4f2e4",
   "metadata": {},
   "outputs": [],
   "source": [
    "data = data.drop(rows_drop).reset_index(drop=True)"
   ]
  },
  {
   "cell_type": "code",
   "execution_count": 395,
   "id": "083ec809",
   "metadata": {},
   "outputs": [
    {
     "data": {
      "text/html": [
       "<div>\n",
       "<style scoped>\n",
       "    .dataframe tbody tr th:only-of-type {\n",
       "        vertical-align: middle;\n",
       "    }\n",
       "\n",
       "    .dataframe tbody tr th {\n",
       "        vertical-align: top;\n",
       "    }\n",
       "\n",
       "    .dataframe thead th {\n",
       "        text-align: right;\n",
       "    }\n",
       "</style>\n",
       "<table border=\"1\" class=\"dataframe\">\n",
       "  <thead>\n",
       "    <tr style=\"text-align: right;\">\n",
       "      <th></th>\n",
       "      <th>ride_id</th>\n",
       "      <th>rideable_type</th>\n",
       "      <th>started_at</th>\n",
       "      <th>ended_at</th>\n",
       "      <th>start_station_name</th>\n",
       "      <th>start_station_id</th>\n",
       "      <th>end_station_name</th>\n",
       "      <th>end_station_id</th>\n",
       "      <th>start_lat</th>\n",
       "      <th>start_lng</th>\n",
       "      <th>end_lat</th>\n",
       "      <th>end_lng</th>\n",
       "      <th>member_casual</th>\n",
       "    </tr>\n",
       "  </thead>\n",
       "  <tbody>\n",
       "    <tr>\n",
       "      <th>0</th>\n",
       "      <td>46F8167220E4431F</td>\n",
       "      <td>electric_bike</td>\n",
       "      <td>2021-12-07 15:06:07</td>\n",
       "      <td>2021-12-07 15:13:42</td>\n",
       "      <td>Laflin St &amp; Cullerton St</td>\n",
       "      <td>13307</td>\n",
       "      <td>Morgan St &amp; Polk St</td>\n",
       "      <td>TA1307000130</td>\n",
       "      <td>41.854833</td>\n",
       "      <td>-87.663660</td>\n",
       "      <td>41.871969</td>\n",
       "      <td>-87.650965</td>\n",
       "      <td>member</td>\n",
       "    </tr>\n",
       "    <tr>\n",
       "      <th>1</th>\n",
       "      <td>73A77762838B32FD</td>\n",
       "      <td>electric_bike</td>\n",
       "      <td>2021-12-11 03:43:29</td>\n",
       "      <td>2021-12-11 04:10:23</td>\n",
       "      <td>LaSalle Dr &amp; Huron St</td>\n",
       "      <td>KP1705001026</td>\n",
       "      <td>Clarendon Ave &amp; Leland Ave</td>\n",
       "      <td>TA1307000119</td>\n",
       "      <td>41.894405</td>\n",
       "      <td>-87.632331</td>\n",
       "      <td>41.967968</td>\n",
       "      <td>-87.650001</td>\n",
       "      <td>casual</td>\n",
       "    </tr>\n",
       "    <tr>\n",
       "      <th>2</th>\n",
       "      <td>4CF42452054F59C5</td>\n",
       "      <td>electric_bike</td>\n",
       "      <td>2021-12-15 23:10:28</td>\n",
       "      <td>2021-12-15 23:23:14</td>\n",
       "      <td>Halsted St &amp; North Branch St</td>\n",
       "      <td>KA1504000117</td>\n",
       "      <td>Broadway &amp; Barry Ave</td>\n",
       "      <td>13137</td>\n",
       "      <td>41.899357</td>\n",
       "      <td>-87.648522</td>\n",
       "      <td>41.937582</td>\n",
       "      <td>-87.644098</td>\n",
       "      <td>member</td>\n",
       "    </tr>\n",
       "    <tr>\n",
       "      <th>3</th>\n",
       "      <td>3278BA87BF698339</td>\n",
       "      <td>classic_bike</td>\n",
       "      <td>2021-12-26 16:16:10</td>\n",
       "      <td>2021-12-26 16:30:53</td>\n",
       "      <td>Halsted St &amp; North Branch St</td>\n",
       "      <td>KA1504000117</td>\n",
       "      <td>LaSalle Dr &amp; Huron St</td>\n",
       "      <td>KP1705001026</td>\n",
       "      <td>41.899390</td>\n",
       "      <td>-87.648545</td>\n",
       "      <td>41.894877</td>\n",
       "      <td>-87.632326</td>\n",
       "      <td>member</td>\n",
       "    </tr>\n",
       "    <tr>\n",
       "      <th>4</th>\n",
       "      <td>6FF54232576A3B73</td>\n",
       "      <td>electric_bike</td>\n",
       "      <td>2021-12-30 11:31:05</td>\n",
       "      <td>2021-12-30 11:51:21</td>\n",
       "      <td>Leavitt St &amp; Chicago Ave</td>\n",
       "      <td>18058</td>\n",
       "      <td>Clark St &amp; Drummond Pl</td>\n",
       "      <td>TA1307000142</td>\n",
       "      <td>41.895579</td>\n",
       "      <td>-87.682024</td>\n",
       "      <td>41.931248</td>\n",
       "      <td>-87.644336</td>\n",
       "      <td>member</td>\n",
       "    </tr>\n",
       "    <tr>\n",
       "      <th>...</th>\n",
       "      <td>...</td>\n",
       "      <td>...</td>\n",
       "      <td>...</td>\n",
       "      <td>...</td>\n",
       "      <td>...</td>\n",
       "      <td>...</td>\n",
       "      <td>...</td>\n",
       "      <td>...</td>\n",
       "      <td>...</td>\n",
       "      <td>...</td>\n",
       "      <td>...</td>\n",
       "      <td>...</td>\n",
       "      <td>...</td>\n",
       "    </tr>\n",
       "    <tr>\n",
       "      <th>176322</th>\n",
       "      <td>E06135F650553F21</td>\n",
       "      <td>electric_bike</td>\n",
       "      <td>2021-12-07 15:55:37</td>\n",
       "      <td>2021-12-07 16:00:17</td>\n",
       "      <td>Canal St &amp; Madison St</td>\n",
       "      <td>13341</td>\n",
       "      <td>Desplaines St &amp; Kinzie St</td>\n",
       "      <td>TA1306000003</td>\n",
       "      <td>41.881372</td>\n",
       "      <td>-87.640042</td>\n",
       "      <td>41.888456</td>\n",
       "      <td>-87.644336</td>\n",
       "      <td>casual</td>\n",
       "    </tr>\n",
       "    <tr>\n",
       "      <th>176323</th>\n",
       "      <td>8DF0DBB049906332</td>\n",
       "      <td>electric_bike</td>\n",
       "      <td>2021-12-01 16:50:52</td>\n",
       "      <td>2021-12-01 16:55:18</td>\n",
       "      <td>Canal St &amp; Madison St</td>\n",
       "      <td>13341</td>\n",
       "      <td>Desplaines St &amp; Kinzie St</td>\n",
       "      <td>TA1306000003</td>\n",
       "      <td>41.881999</td>\n",
       "      <td>-87.639265</td>\n",
       "      <td>41.888415</td>\n",
       "      <td>-87.644342</td>\n",
       "      <td>casual</td>\n",
       "    </tr>\n",
       "    <tr>\n",
       "      <th>176324</th>\n",
       "      <td>CF407BBC3B9FAD63</td>\n",
       "      <td>electric_bike</td>\n",
       "      <td>2021-12-06 19:37:50</td>\n",
       "      <td>2021-12-06 19:44:51</td>\n",
       "      <td>Canal St &amp; Madison St</td>\n",
       "      <td>13341</td>\n",
       "      <td>Kingsbury St &amp; Kinzie St</td>\n",
       "      <td>KA1503000043</td>\n",
       "      <td>41.882123</td>\n",
       "      <td>-87.640053</td>\n",
       "      <td>41.889106</td>\n",
       "      <td>-87.638862</td>\n",
       "      <td>member</td>\n",
       "    </tr>\n",
       "    <tr>\n",
       "      <th>176325</th>\n",
       "      <td>60BB69EBF5440E92</td>\n",
       "      <td>electric_bike</td>\n",
       "      <td>2021-12-02 08:57:04</td>\n",
       "      <td>2021-12-02 09:05:21</td>\n",
       "      <td>Canal St &amp; Madison St</td>\n",
       "      <td>13341</td>\n",
       "      <td>Dearborn St &amp; Monroe St</td>\n",
       "      <td>TA1305000006</td>\n",
       "      <td>41.881956</td>\n",
       "      <td>-87.639955</td>\n",
       "      <td>41.880254</td>\n",
       "      <td>-87.629603</td>\n",
       "      <td>member</td>\n",
       "    </tr>\n",
       "    <tr>\n",
       "      <th>176326</th>\n",
       "      <td>37AC57E34B2E7E97</td>\n",
       "      <td>classic_bike</td>\n",
       "      <td>2021-12-13 08:45:32</td>\n",
       "      <td>2021-12-13 08:49:09</td>\n",
       "      <td>Michigan Ave &amp; Jackson Blvd</td>\n",
       "      <td>TA1309000002</td>\n",
       "      <td>Dearborn St &amp; Monroe St</td>\n",
       "      <td>TA1305000006</td>\n",
       "      <td>41.877850</td>\n",
       "      <td>-87.624080</td>\n",
       "      <td>41.881320</td>\n",
       "      <td>-87.629521</td>\n",
       "      <td>member</td>\n",
       "    </tr>\n",
       "  </tbody>\n",
       "</table>\n",
       "<p>176327 rows × 13 columns</p>\n",
       "</div>"
      ],
      "text/plain": [
       "                 ride_id  rideable_type          started_at  \\\n",
       "0       46F8167220E4431F  electric_bike 2021-12-07 15:06:07   \n",
       "1       73A77762838B32FD  electric_bike 2021-12-11 03:43:29   \n",
       "2       4CF42452054F59C5  electric_bike 2021-12-15 23:10:28   \n",
       "3       3278BA87BF698339   classic_bike 2021-12-26 16:16:10   \n",
       "4       6FF54232576A3B73  electric_bike 2021-12-30 11:31:05   \n",
       "...                  ...            ...                 ...   \n",
       "176322  E06135F650553F21  electric_bike 2021-12-07 15:55:37   \n",
       "176323  8DF0DBB049906332  electric_bike 2021-12-01 16:50:52   \n",
       "176324  CF407BBC3B9FAD63  electric_bike 2021-12-06 19:37:50   \n",
       "176325  60BB69EBF5440E92  electric_bike 2021-12-02 08:57:04   \n",
       "176326  37AC57E34B2E7E97   classic_bike 2021-12-13 08:45:32   \n",
       "\n",
       "                  ended_at            start_station_name start_station_id  \\\n",
       "0      2021-12-07 15:13:42      Laflin St & Cullerton St            13307   \n",
       "1      2021-12-11 04:10:23         LaSalle Dr & Huron St     KP1705001026   \n",
       "2      2021-12-15 23:23:14  Halsted St & North Branch St     KA1504000117   \n",
       "3      2021-12-26 16:30:53  Halsted St & North Branch St     KA1504000117   \n",
       "4      2021-12-30 11:51:21      Leavitt St & Chicago Ave            18058   \n",
       "...                    ...                           ...              ...   \n",
       "176322 2021-12-07 16:00:17         Canal St & Madison St            13341   \n",
       "176323 2021-12-01 16:55:18         Canal St & Madison St            13341   \n",
       "176324 2021-12-06 19:44:51         Canal St & Madison St            13341   \n",
       "176325 2021-12-02 09:05:21         Canal St & Madison St            13341   \n",
       "176326 2021-12-13 08:49:09   Michigan Ave & Jackson Blvd     TA1309000002   \n",
       "\n",
       "                  end_station_name end_station_id  start_lat  start_lng  \\\n",
       "0              Morgan St & Polk St   TA1307000130  41.854833 -87.663660   \n",
       "1       Clarendon Ave & Leland Ave   TA1307000119  41.894405 -87.632331   \n",
       "2             Broadway & Barry Ave          13137  41.899357 -87.648522   \n",
       "3            LaSalle Dr & Huron St   KP1705001026  41.899390 -87.648545   \n",
       "4           Clark St & Drummond Pl   TA1307000142  41.895579 -87.682024   \n",
       "...                            ...            ...        ...        ...   \n",
       "176322   Desplaines St & Kinzie St   TA1306000003  41.881372 -87.640042   \n",
       "176323   Desplaines St & Kinzie St   TA1306000003  41.881999 -87.639265   \n",
       "176324    Kingsbury St & Kinzie St   KA1503000043  41.882123 -87.640053   \n",
       "176325     Dearborn St & Monroe St   TA1305000006  41.881956 -87.639955   \n",
       "176326     Dearborn St & Monroe St   TA1305000006  41.877850 -87.624080   \n",
       "\n",
       "          end_lat    end_lng member_casual  \n",
       "0       41.871969 -87.650965        member  \n",
       "1       41.967968 -87.650001        casual  \n",
       "2       41.937582 -87.644098        member  \n",
       "3       41.894877 -87.632326        member  \n",
       "4       41.931248 -87.644336        member  \n",
       "...           ...        ...           ...  \n",
       "176322  41.888456 -87.644336        casual  \n",
       "176323  41.888415 -87.644342        casual  \n",
       "176324  41.889106 -87.638862        member  \n",
       "176325  41.880254 -87.629603        member  \n",
       "176326  41.881320 -87.629521        member  \n",
       "\n",
       "[176327 rows x 13 columns]"
      ]
     },
     "execution_count": 395,
     "metadata": {},
     "output_type": "execute_result"
    }
   ],
   "source": [
    "data"
   ]
  },
  {
   "cell_type": "markdown",
   "id": "923052c9",
   "metadata": {},
   "source": [
    "We will check `end_station_name`."
   ]
  },
  {
   "cell_type": "code",
   "execution_count": 396,
   "id": "ab8fcee4",
   "metadata": {},
   "outputs": [
    {
     "data": {
      "text/plain": [
       "end_station_name\n",
       "Kingsbury St & Kinzie St         1710\n",
       "Clark St & Elm St                1555\n",
       "Streeter Dr & Grand Ave          1487\n",
       "St. Clair St & Erie St           1487\n",
       "Clinton St & Madison St          1433\n",
       "                                 ... \n",
       "Major Taylor Trail & 124th St       1\n",
       "California Ave & 29th St            1\n",
       "Kostner Ave & Adams St              1\n",
       "Seeley Ave & Garfield Blvd          1\n",
       "Halsted St & 78th St                1\n",
       "Name: count, Length: 766, dtype: int64"
      ]
     },
     "execution_count": 396,
     "metadata": {},
     "output_type": "execute_result"
    }
   ],
   "source": [
    "data['end_station_name'].value_counts()"
   ]
  },
  {
   "cell_type": "markdown",
   "id": "d5b9d5b1",
   "metadata": {},
   "source": [
    "The same check for that we did for the station IDs can be done for the start and stop station names ot ensure that we don't have any outliers. "
   ]
  },
  {
   "cell_type": "code",
   "execution_count": 397,
   "id": "2cefc58e",
   "metadata": {},
   "outputs": [
    {
     "data": {
      "text/plain": [
       "1"
      ]
     },
     "execution_count": 397,
     "metadata": {},
     "output_type": "execute_result"
    }
   ],
   "source": [
    "sum(~data['start_station_name'].isin(data['end_station_name']).values)"
   ]
  },
  {
   "cell_type": "code",
   "execution_count": 398,
   "id": "3971932b",
   "metadata": {},
   "outputs": [
    {
     "data": {
      "text/plain": [
       "0"
      ]
     },
     "execution_count": 398,
     "metadata": {},
     "output_type": "execute_result"
    }
   ],
   "source": [
    "sum(~data['end_station_name'].isin(data['start_station_name']).values)"
   ]
  },
  {
   "cell_type": "markdown",
   "id": "4743c94d",
   "metadata": {},
   "source": [
    "It looks like we actually do still have one outlier that didn't get removed. Let's remove it."
   ]
  },
  {
   "cell_type": "code",
   "execution_count": 399,
   "id": "09711760",
   "metadata": {},
   "outputs": [
    {
     "data": {
      "text/html": [
       "<div>\n",
       "<style scoped>\n",
       "    .dataframe tbody tr th:only-of-type {\n",
       "        vertical-align: middle;\n",
       "    }\n",
       "\n",
       "    .dataframe tbody tr th {\n",
       "        vertical-align: top;\n",
       "    }\n",
       "\n",
       "    .dataframe thead th {\n",
       "        text-align: right;\n",
       "    }\n",
       "</style>\n",
       "<table border=\"1\" class=\"dataframe\">\n",
       "  <thead>\n",
       "    <tr style=\"text-align: right;\">\n",
       "      <th></th>\n",
       "      <th>ride_id</th>\n",
       "      <th>rideable_type</th>\n",
       "      <th>started_at</th>\n",
       "      <th>ended_at</th>\n",
       "      <th>start_station_name</th>\n",
       "      <th>start_station_id</th>\n",
       "      <th>end_station_name</th>\n",
       "      <th>end_station_id</th>\n",
       "      <th>start_lat</th>\n",
       "      <th>start_lng</th>\n",
       "      <th>end_lat</th>\n",
       "      <th>end_lng</th>\n",
       "      <th>member_casual</th>\n",
       "    </tr>\n",
       "  </thead>\n",
       "  <tbody>\n",
       "    <tr>\n",
       "      <th>13583</th>\n",
       "      <td>D6CD5EACE14F7930</td>\n",
       "      <td>docked_bike</td>\n",
       "      <td>2021-12-25 03:06:59</td>\n",
       "      <td>2021-12-27 13:42:30</td>\n",
       "      <td>Lawndale Ave &amp; 111th St</td>\n",
       "      <td>20203</td>\n",
       "      <td>Base - 2132 W Hubbard Warehouse</td>\n",
       "      <td>Hubbard Bike-checking (LBS-WH-TEST)</td>\n",
       "      <td>41.691319</td>\n",
       "      <td>-87.712886</td>\n",
       "      <td>41.889955</td>\n",
       "      <td>-87.680651</td>\n",
       "      <td>casual</td>\n",
       "    </tr>\n",
       "  </tbody>\n",
       "</table>\n",
       "</div>"
      ],
      "text/plain": [
       "                ride_id rideable_type          started_at            ended_at  \\\n",
       "13583  D6CD5EACE14F7930   docked_bike 2021-12-25 03:06:59 2021-12-27 13:42:30   \n",
       "\n",
       "            start_station_name start_station_id  \\\n",
       "13583  Lawndale Ave & 111th St            20203   \n",
       "\n",
       "                      end_station_name                       end_station_id  \\\n",
       "13583  Base - 2132 W Hubbard Warehouse  Hubbard Bike-checking (LBS-WH-TEST)   \n",
       "\n",
       "       start_lat  start_lng    end_lat    end_lng member_casual  \n",
       "13583  41.691319 -87.712886  41.889955 -87.680651        casual  "
      ]
     },
     "execution_count": 399,
     "metadata": {},
     "output_type": "execute_result"
    }
   ],
   "source": [
    "data[~data['start_station_name'].isin(data['end_station_name'])]"
   ]
  },
  {
   "cell_type": "code",
   "execution_count": 401,
   "id": "fb745d38",
   "metadata": {},
   "outputs": [],
   "source": [
    "rows_drop = data[~data['start_station_name'].isin(data['end_station_name'])].index \n",
    "\n",
    "data = data.drop(rows_drop).reset_index(drop=True)"
   ]
  },
  {
   "cell_type": "code",
   "execution_count": 402,
   "id": "e40330e6",
   "metadata": {},
   "outputs": [
    {
     "data": {
      "text/plain": [
       "(176326, 13)"
      ]
     },
     "execution_count": 402,
     "metadata": {},
     "output_type": "execute_result"
    }
   ],
   "source": [
    "# Check dataframe shape\n",
    "data.shape"
   ]
  },
  {
   "cell_type": "markdown",
   "id": "e84d5497",
   "metadata": {},
   "source": [
    "Next, since latitude and longitude are fixed coordinate systems, we should not do any adjustments to them. This leaves us with the last column, `member_casual`."
   ]
  },
  {
   "cell_type": "code",
   "execution_count": 403,
   "id": "118b84f6",
   "metadata": {},
   "outputs": [
    {
     "data": {
      "text/plain": [
       "member_casual\n",
       "member    131281\n",
       "casual     45045\n",
       "Name: count, dtype: int64"
      ]
     },
     "execution_count": 403,
     "metadata": {},
     "output_type": "execute_result"
    }
   ],
   "source": [
    "data['member_casual'].value_counts()"
   ]
  },
  {
   "cell_type": "markdown",
   "id": "51e734b2",
   "metadata": {},
   "source": [
    "We can see that this column is fine. \n",
    "\n",
    "This concludes our transforming process, we can now transfer these steps to a Python script where it will clean the dataset all at once. "
   ]
  },
  {
   "cell_type": "code",
   "execution_count": null,
   "id": "f274cffa",
   "metadata": {},
   "outputs": [],
   "source": [
    "# Export as CSV\n",
    "data.to_csv('../data/output/biking_trip_2021_12_cleaned.csv')"
   ]
  },
  {
   "cell_type": "code",
   "execution_count": null,
   "id": "638a563a",
   "metadata": {},
   "outputs": [],
   "source": []
  },
  {
   "cell_type": "code",
   "execution_count": null,
   "id": "a693aa7b",
   "metadata": {},
   "outputs": [],
   "source": []
  }
 ],
 "metadata": {
  "kernelspec": {
   "display_name": "Python 3 (ipykernel)",
   "language": "python",
   "name": "python3"
  },
  "language_info": {
   "codemirror_mode": {
    "name": "ipython",
    "version": 3
   },
   "file_extension": ".py",
   "mimetype": "text/x-python",
   "name": "python",
   "nbconvert_exporter": "python",
   "pygments_lexer": "ipython3",
   "version": "3.10.14"
  }
 },
 "nbformat": 4,
 "nbformat_minor": 5
}
